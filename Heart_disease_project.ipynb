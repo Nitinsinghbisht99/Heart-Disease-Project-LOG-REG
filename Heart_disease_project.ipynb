{
 "cells": [
  {
   "cell_type": "code",
   "execution_count": 1,
   "id": "9802cbcd",
   "metadata": {},
   "outputs": [],
   "source": [
    "import pandas as pd \n",
    "import numpy as np \n",
    "import seaborn as sns \n",
    "import matplotlib.pyplot as plt"
   ]
  },
  {
   "cell_type": "code",
   "execution_count": 2,
   "id": "8cdd9adb",
   "metadata": {},
   "outputs": [],
   "source": [
    "df=pd.read_csv('heart_disease_dataset.csv')"
   ]
  },
  {
   "cell_type": "code",
   "execution_count": 3,
   "id": "ee621cd7",
   "metadata": {
    "scrolled": true
   },
   "outputs": [
    {
     "data": {
      "text/html": [
       "<div>\n",
       "<style scoped>\n",
       "    .dataframe tbody tr th:only-of-type {\n",
       "        vertical-align: middle;\n",
       "    }\n",
       "\n",
       "    .dataframe tbody tr th {\n",
       "        vertical-align: top;\n",
       "    }\n",
       "\n",
       "    .dataframe thead th {\n",
       "        text-align: right;\n",
       "    }\n",
       "</style>\n",
       "<table border=\"1\" class=\"dataframe\">\n",
       "  <thead>\n",
       "    <tr style=\"text-align: right;\">\n",
       "      <th></th>\n",
       "      <th>Age</th>\n",
       "      <th>Gender</th>\n",
       "      <th>Cholesterol</th>\n",
       "      <th>Blood Pressure</th>\n",
       "      <th>Heart Rate</th>\n",
       "      <th>Smoking</th>\n",
       "      <th>Alcohol Intake</th>\n",
       "      <th>Exercise Hours</th>\n",
       "      <th>Family History</th>\n",
       "      <th>Diabetes</th>\n",
       "      <th>Obesity</th>\n",
       "      <th>Stress Level</th>\n",
       "      <th>Blood Sugar</th>\n",
       "      <th>Exercise Induced Angina</th>\n",
       "      <th>Chest Pain Type</th>\n",
       "      <th>Heart Disease</th>\n",
       "    </tr>\n",
       "  </thead>\n",
       "  <tbody>\n",
       "    <tr>\n",
       "      <th>0</th>\n",
       "      <td>75</td>\n",
       "      <td>Female</td>\n",
       "      <td>228</td>\n",
       "      <td>119</td>\n",
       "      <td>66</td>\n",
       "      <td>Current</td>\n",
       "      <td>Heavy</td>\n",
       "      <td>1</td>\n",
       "      <td>No</td>\n",
       "      <td>No</td>\n",
       "      <td>Yes</td>\n",
       "      <td>8</td>\n",
       "      <td>119</td>\n",
       "      <td>Yes</td>\n",
       "      <td>Atypical Angina</td>\n",
       "      <td>1</td>\n",
       "    </tr>\n",
       "    <tr>\n",
       "      <th>1</th>\n",
       "      <td>48</td>\n",
       "      <td>Male</td>\n",
       "      <td>204</td>\n",
       "      <td>165</td>\n",
       "      <td>62</td>\n",
       "      <td>Current</td>\n",
       "      <td>None</td>\n",
       "      <td>5</td>\n",
       "      <td>No</td>\n",
       "      <td>No</td>\n",
       "      <td>No</td>\n",
       "      <td>9</td>\n",
       "      <td>70</td>\n",
       "      <td>Yes</td>\n",
       "      <td>Typical Angina</td>\n",
       "      <td>0</td>\n",
       "    </tr>\n",
       "    <tr>\n",
       "      <th>2</th>\n",
       "      <td>53</td>\n",
       "      <td>Male</td>\n",
       "      <td>234</td>\n",
       "      <td>91</td>\n",
       "      <td>67</td>\n",
       "      <td>Never</td>\n",
       "      <td>Heavy</td>\n",
       "      <td>3</td>\n",
       "      <td>Yes</td>\n",
       "      <td>No</td>\n",
       "      <td>Yes</td>\n",
       "      <td>5</td>\n",
       "      <td>196</td>\n",
       "      <td>Yes</td>\n",
       "      <td>Atypical Angina</td>\n",
       "      <td>1</td>\n",
       "    </tr>\n",
       "    <tr>\n",
       "      <th>3</th>\n",
       "      <td>69</td>\n",
       "      <td>Female</td>\n",
       "      <td>192</td>\n",
       "      <td>90</td>\n",
       "      <td>72</td>\n",
       "      <td>Current</td>\n",
       "      <td>None</td>\n",
       "      <td>4</td>\n",
       "      <td>No</td>\n",
       "      <td>Yes</td>\n",
       "      <td>No</td>\n",
       "      <td>7</td>\n",
       "      <td>107</td>\n",
       "      <td>Yes</td>\n",
       "      <td>Non-anginal Pain</td>\n",
       "      <td>0</td>\n",
       "    </tr>\n",
       "    <tr>\n",
       "      <th>4</th>\n",
       "      <td>62</td>\n",
       "      <td>Female</td>\n",
       "      <td>172</td>\n",
       "      <td>163</td>\n",
       "      <td>93</td>\n",
       "      <td>Never</td>\n",
       "      <td>None</td>\n",
       "      <td>6</td>\n",
       "      <td>No</td>\n",
       "      <td>Yes</td>\n",
       "      <td>No</td>\n",
       "      <td>2</td>\n",
       "      <td>183</td>\n",
       "      <td>Yes</td>\n",
       "      <td>Asymptomatic</td>\n",
       "      <td>0</td>\n",
       "    </tr>\n",
       "  </tbody>\n",
       "</table>\n",
       "</div>"
      ],
      "text/plain": [
       "   Age  Gender  Cholesterol  Blood Pressure  Heart Rate  Smoking  \\\n",
       "0   75  Female          228             119          66  Current   \n",
       "1   48    Male          204             165          62  Current   \n",
       "2   53    Male          234              91          67    Never   \n",
       "3   69  Female          192              90          72  Current   \n",
       "4   62  Female          172             163          93    Never   \n",
       "\n",
       "  Alcohol Intake  Exercise Hours Family History Diabetes Obesity  \\\n",
       "0          Heavy               1             No       No     Yes   \n",
       "1           None               5             No       No      No   \n",
       "2          Heavy               3            Yes       No     Yes   \n",
       "3           None               4             No      Yes      No   \n",
       "4           None               6             No      Yes      No   \n",
       "\n",
       "   Stress Level  Blood Sugar Exercise Induced Angina   Chest Pain Type  \\\n",
       "0             8          119                     Yes   Atypical Angina   \n",
       "1             9           70                     Yes    Typical Angina   \n",
       "2             5          196                     Yes   Atypical Angina   \n",
       "3             7          107                     Yes  Non-anginal Pain   \n",
       "4             2          183                     Yes      Asymptomatic   \n",
       "\n",
       "   Heart Disease  \n",
       "0              1  \n",
       "1              0  \n",
       "2              1  \n",
       "3              0  \n",
       "4              0  "
      ]
     },
     "execution_count": 3,
     "metadata": {},
     "output_type": "execute_result"
    }
   ],
   "source": [
    "df.head()"
   ]
  },
  {
   "cell_type": "code",
   "execution_count": 4,
   "id": "0a26e418",
   "metadata": {},
   "outputs": [
    {
     "data": {
      "text/plain": [
       "(1000, 16)"
      ]
     },
     "execution_count": 4,
     "metadata": {},
     "output_type": "execute_result"
    }
   ],
   "source": [
    "df.shape"
   ]
  },
  {
   "cell_type": "markdown",
   "id": "ca492af1",
   "metadata": {},
   "source": [
    "## Handling null value"
   ]
  },
  {
   "cell_type": "code",
   "execution_count": 5,
   "id": "8b895b4a",
   "metadata": {
    "scrolled": true
   },
   "outputs": [
    {
     "name": "stdout",
     "output_type": "stream",
     "text": [
      "<class 'pandas.core.frame.DataFrame'>\n",
      "RangeIndex: 1000 entries, 0 to 999\n",
      "Data columns (total 16 columns):\n",
      " #   Column                   Non-Null Count  Dtype \n",
      "---  ------                   --------------  ----- \n",
      " 0   Age                      1000 non-null   int64 \n",
      " 1   Gender                   1000 non-null   object\n",
      " 2   Cholesterol              1000 non-null   int64 \n",
      " 3   Blood Pressure           1000 non-null   int64 \n",
      " 4   Heart Rate               1000 non-null   int64 \n",
      " 5   Smoking                  1000 non-null   object\n",
      " 6   Alcohol Intake           1000 non-null   object\n",
      " 7   Exercise Hours           1000 non-null   int64 \n",
      " 8   Family History           1000 non-null   object\n",
      " 9   Diabetes                 1000 non-null   object\n",
      " 10  Obesity                  1000 non-null   object\n",
      " 11  Stress Level             1000 non-null   int64 \n",
      " 12  Blood Sugar              1000 non-null   int64 \n",
      " 13  Exercise Induced Angina  1000 non-null   object\n",
      " 14  Chest Pain Type          1000 non-null   object\n",
      " 15  Heart Disease            1000 non-null   int64 \n",
      "dtypes: int64(8), object(8)\n",
      "memory usage: 125.1+ KB\n"
     ]
    }
   ],
   "source": [
    "    df.info()"
   ]
  },
  {
   "cell_type": "code",
   "execution_count": 6,
   "id": "e7663dfa",
   "metadata": {},
   "outputs": [],
   "source": [
    " ## we can see that there is no null values in in data set "
   ]
  },
  {
   "cell_type": "code",
   "execution_count": 7,
   "id": "62c110d9",
   "metadata": {},
   "outputs": [],
   "source": [
    "## another way to get to know about the null  values is "
   ]
  },
  {
   "cell_type": "code",
   "execution_count": 8,
   "id": "3928808e",
   "metadata": {},
   "outputs": [
    {
     "data": {
      "text/plain": [
       "Age                        0\n",
       "Gender                     0\n",
       "Cholesterol                0\n",
       "Blood Pressure             0\n",
       "Heart Rate                 0\n",
       "Smoking                    0\n",
       "Alcohol Intake             0\n",
       "Exercise Hours             0\n",
       "Family History             0\n",
       "Diabetes                   0\n",
       "Obesity                    0\n",
       "Stress Level               0\n",
       "Blood Sugar                0\n",
       "Exercise Induced Angina    0\n",
       "Chest Pain Type            0\n",
       "Heart Disease              0\n",
       "dtype: int64"
      ]
     },
     "execution_count": 8,
     "metadata": {},
     "output_type": "execute_result"
    }
   ],
   "source": [
    "df.isnull().sum()"
   ]
  },
  {
   "cell_type": "code",
   "execution_count": 9,
   "id": "58061809",
   "metadata": {},
   "outputs": [],
   "source": [
    "# As we can again confirm that no null value is found in the data set "
   ]
  },
  {
   "cell_type": "markdown",
   "id": "6caf63f0",
   "metadata": {},
   "source": [
    "## Handling duplicates"
   ]
  },
  {
   "cell_type": "code",
   "execution_count": 10,
   "id": "9dbeccf8",
   "metadata": {},
   "outputs": [
    {
     "data": {
      "text/plain": [
       "0"
      ]
     },
     "execution_count": 10,
     "metadata": {},
     "output_type": "execute_result"
    }
   ],
   "source": [
    "df.duplicated().sum()"
   ]
  },
  {
   "cell_type": "code",
   "execution_count": 11,
   "id": "e60ed30d",
   "metadata": {},
   "outputs": [],
   "source": [
    "# No duplicate data found in data set "
   ]
  },
  {
   "cell_type": "code",
   "execution_count": 12,
   "id": "41434d25",
   "metadata": {},
   "outputs": [],
   "source": [
    "## to check wether data is normally distributed "
   ]
  },
  {
   "cell_type": "markdown",
   "id": "1e5a618e",
   "metadata": {},
   "source": [
    "### EDA"
   ]
  },
  {
   "cell_type": "code",
   "execution_count": 13,
   "id": "b3d18df5",
   "metadata": {},
   "outputs": [
    {
     "data": {
      "text/plain": [
       "Age                         int64\n",
       "Gender                     object\n",
       "Cholesterol                 int64\n",
       "Blood Pressure              int64\n",
       "Heart Rate                  int64\n",
       "Smoking                    object\n",
       "Alcohol Intake             object\n",
       "Exercise Hours              int64\n",
       "Family History             object\n",
       "Diabetes                   object\n",
       "Obesity                    object\n",
       "Stress Level                int64\n",
       "Blood Sugar                 int64\n",
       "Exercise Induced Angina    object\n",
       "Chest Pain Type            object\n",
       "Heart Disease               int64\n",
       "dtype: object"
      ]
     },
     "execution_count": 13,
     "metadata": {},
     "output_type": "execute_result"
    }
   ],
   "source": [
    "df.dtypes"
   ]
  },
  {
   "cell_type": "code",
   "execution_count": 14,
   "id": "91f03330",
   "metadata": {
    "scrolled": true
   },
   "outputs": [
    {
     "name": "stdout",
     "output_type": "stream",
     "text": [
      "************************\n",
      "features,Age\n",
      "int64\n",
      "55\n",
      "************************\n",
      "features,Gender\n",
      "object\n",
      "2\n",
      "************************\n",
      "features,Cholesterol\n",
      "int64\n",
      "200\n",
      "************************\n",
      "features,Blood Pressure\n",
      "int64\n",
      "90\n",
      "************************\n",
      "features,Heart Rate\n",
      "int64\n",
      "40\n",
      "************************\n",
      "features,Smoking\n",
      "object\n",
      "3\n",
      "************************\n",
      "features,Alcohol Intake\n",
      "object\n",
      "3\n",
      "************************\n",
      "features,Exercise Hours\n",
      "int64\n",
      "10\n",
      "************************\n",
      "features,Family History\n",
      "object\n",
      "2\n",
      "************************\n",
      "features,Diabetes\n",
      "object\n",
      "2\n",
      "************************\n",
      "features,Obesity\n",
      "object\n",
      "2\n",
      "************************\n",
      "features,Stress Level\n",
      "int64\n",
      "10\n",
      "************************\n",
      "features,Blood Sugar\n",
      "int64\n",
      "130\n",
      "************************\n",
      "features,Exercise Induced Angina\n",
      "object\n",
      "2\n",
      "************************\n",
      "features,Chest Pain Type\n",
      "object\n",
      "4\n",
      "************************\n",
      "features,Heart Disease\n",
      "int64\n",
      "2\n"
     ]
    }
   ],
   "source": [
    "for i in df.columns:\n",
    "    print(\"************************\")\n",
    "    print(f'features,{i}')\n",
    "    print(df[i].dtypes)\n",
    "    print(df[i].nunique())\n",
    "    "
   ]
  },
  {
   "cell_type": "code",
   "execution_count": 15,
   "id": "cab0c55b",
   "metadata": {
    "scrolled": true
   },
   "outputs": [],
   "source": [
    "int_cols=df.dtypes[df.dtypes!='object'].index\n",
    "cat_cols=df.dtypes[df.dtypes=='object'].index"
   ]
  },
  {
   "cell_type": "code",
   "execution_count": 16,
   "id": "32c0e6db",
   "metadata": {},
   "outputs": [
    {
     "name": "stdout",
     "output_type": "stream",
     "text": [
      "Index(['Gender', 'Smoking', 'Alcohol Intake', 'Family History', 'Diabetes',\n",
      "       'Obesity', 'Exercise Induced Angina', 'Chest Pain Type'],\n",
      "      dtype='object')\n",
      "Index(['Age', 'Cholesterol', 'Blood Pressure', 'Heart Rate', 'Exercise Hours',\n",
      "       'Stress Level', 'Blood Sugar', 'Heart Disease'],\n",
      "      dtype='object')\n"
     ]
    }
   ],
   "source": [
    "print(cat_cols)\n",
    "print(int_cols)"
   ]
  },
  {
   "cell_type": "code",
   "execution_count": 17,
   "id": "995aa088",
   "metadata": {},
   "outputs": [],
   "source": [
    "df1=df.copy()"
   ]
  },
  {
   "cell_type": "code",
   "execution_count": 18,
   "id": "5db4479b",
   "metadata": {},
   "outputs": [],
   "source": [
    "from sklearn.preprocessing import LabelEncoder"
   ]
  },
  {
   "cell_type": "code",
   "execution_count": 19,
   "id": "23cf6ce3",
   "metadata": {},
   "outputs": [],
   "source": [
    "lb=LabelEncoder()"
   ]
  },
  {
   "cell_type": "code",
   "execution_count": 20,
   "id": "59f5833d",
   "metadata": {},
   "outputs": [],
   "source": [
    "df['Gender']=lb.fit_transform(df['Gender'])"
   ]
  },
  {
   "cell_type": "code",
   "execution_count": 21,
   "id": "373cfa00",
   "metadata": {},
   "outputs": [],
   "source": [
    "df['Smoking']=lb.fit_transform(df['Smoking'])\n",
    "df['Alcohol Intake']=lb.fit_transform(df['Alcohol Intake'])\n",
    "df['Family History']=lb.fit_transform(df['Family History'])\n",
    "df['Diabetes']=lb.fit_transform(df['Diabetes'])\n",
    "df['Obesity']=lb.fit_transform(df['Obesity'])\n",
    "df['Exercise Induced Angina']=lb.fit_transform(df['Exercise Induced Angina'])\n",
    "df['Chest Pain Type']=lb.fit_transform(df['Chest Pain Type'])\n",
    "\n",
    "\n",
    "\n",
    "\n"
   ]
  },
  {
   "cell_type": "code",
   "execution_count": 22,
   "id": "735518ba",
   "metadata": {
    "scrolled": false
   },
   "outputs": [
    {
     "data": {
      "text/plain": [
       "Age                        int64\n",
       "Gender                     int32\n",
       "Cholesterol                int64\n",
       "Blood Pressure             int64\n",
       "Heart Rate                 int64\n",
       "Smoking                    int32\n",
       "Alcohol Intake             int32\n",
       "Exercise Hours             int64\n",
       "Family History             int32\n",
       "Diabetes                   int32\n",
       "Obesity                    int32\n",
       "Stress Level               int64\n",
       "Blood Sugar                int64\n",
       "Exercise Induced Angina    int32\n",
       "Chest Pain Type            int32\n",
       "Heart Disease              int64\n",
       "dtype: object"
      ]
     },
     "execution_count": 22,
     "metadata": {},
     "output_type": "execute_result"
    }
   ],
   "source": [
    "df.dtypes"
   ]
  },
  {
   "cell_type": "markdown",
   "id": "912dd4a1",
   "metadata": {},
   "source": [
    "### outliers Treatment "
   ]
  },
  {
   "cell_type": "code",
   "execution_count": 23,
   "id": "75de1632",
   "metadata": {},
   "outputs": [],
   "source": [
    "int_cols1=df.dtypes[df.dtypes!='object'].index\n",
    "cat_cols1=df.dtypes[df.dtypes=='object'].index"
   ]
  },
  {
   "cell_type": "code",
   "execution_count": 24,
   "id": "fdc52bbe",
   "metadata": {
    "scrolled": false
   },
   "outputs": [
    {
     "name": "stderr",
     "output_type": "stream",
     "text": [
      "C:\\Users\\91807\\anaconda3\\lib\\site-packages\\seaborn\\_decorators.py:36: FutureWarning: Pass the following variable as a keyword arg: x. From version 0.12, the only valid positional argument will be `data`, and passing other arguments without an explicit keyword will result in an error or misinterpretation.\n",
      "  warnings.warn(\n"
     ]
    },
    {
     "data": {
      "image/png": "[encoded data removed]",
      "text/plain": [
       "<Figure size 640x480 with 1 Axes>"
      ]
     },
     "metadata": {},
     "output_type": "display_data"
    },
    {
     "name": "stderr",
     "output_type": "stream",
     "text": [
      "C:\\Users\\91807\\anaconda3\\lib\\site-packages\\seaborn\\_decorators.py:36: FutureWarning: Pass the following variable as a keyword arg: x. From version 0.12, the only valid positional argument will be `data`, and passing other arguments without an explicit keyword will result in an error or misinterpretation.\n",
      "  warnings.warn(\n"
     ]
    },
    {
     "data": {
      "image/png": "[encoded data removed]",
      "text/plain": [
       "<Figure size 640x480 with 1 Axes>"
      ]
     },
     "metadata": {},
     "output_type": "display_data"
    },
    {
     "name": "stderr",
     "output_type": "stream",
     "text": [
      "C:\\Users\\91807\\anaconda3\\lib\\site-packages\\seaborn\\_decorators.py:36: FutureWarning: Pass the following variable as a keyword arg: x. From version 0.12, the only valid positional argument will be `data`, and passing other arguments without an explicit keyword will result in an error or misinterpretation.\n",
      "  warnings.warn(\n"
     ]
    },
    {
     "data": {
      "image/png": "[encoded data removed]",
      "text/plain": [
       "<Figure size 640x480 with 1 Axes>"
      ]
     },
     "metadata": {},
     "output_type": "display_data"
    },
    {
     "name": "stderr",
     "output_type": "stream",
     "text": [
      "C:\\Users\\91807\\anaconda3\\lib\\site-packages\\seaborn\\_decorators.py:36: FutureWarning: Pass the following variable as a keyword arg: x. From version 0.12, the only valid positional argument will be `data`, and passing other arguments without an explicit keyword will result in an error or misinterpretation.\n",
      "  warnings.warn(\n"
     ]
    },
    {
     "data": {
      "image/png": "[encoded data removed]",
      "text/plain": [
       "<Figure size 640x480 with 1 Axes>"
      ]
     },
     "metadata": {},
     "output_type": "display_data"
    },
    {
     "name": "stderr",
     "output_type": "stream",
     "text": [
      "C:\\Users\\91807\\anaconda3\\lib\\site-packages\\seaborn\\_decorators.py:36: FutureWarning: Pass the following variable as a keyword arg: x. From version 0.12, the only valid positional argument will be `data`, and passing other arguments without an explicit keyword will result in an error or misinterpretation.\n",
      "  warnings.warn(\n"
     ]
    },
    {
     "data": {
      "image/png": "[encoded data removed]",
      "text/plain": [
       "<Figure size 640x480 with 1 Axes>"
      ]
     },
     "metadata": {},
     "output_type": "display_data"
    },
    {
     "name": "stderr",
     "output_type": "stream",
     "text": [
      "C:\\Users\\91807\\anaconda3\\lib\\site-packages\\seaborn\\_decorators.py:36: FutureWarning: Pass the following variable as a keyword arg: x. From version 0.12, the only valid positional argument will be `data`, and passing other arguments without an explicit keyword will result in an error or misinterpretation.\n",
      "  warnings.warn(\n"
     ]
    },
    {
     "data": {
      "image/png": "[encoded data removed]",
      "text/plain": [
       "<Figure size 640x480 with 1 Axes>"
      ]
     },
     "metadata": {},
     "output_type": "display_data"
    },
    {
     "name": "stderr",
     "output_type": "stream",
     "text": [
      "C:\\Users\\91807\\anaconda3\\lib\\site-packages\\seaborn\\_decorators.py:36: FutureWarning: Pass the following variable as a keyword arg: x. From version 0.12, the only valid positional argument will be `data`, and passing other arguments without an explicit keyword will result in an error or misinterpretation.\n",
      "  warnings.warn(\n"
     ]
    },
    {
     "data": {
      "image/png": "[encoded data removed]",
      "text/plain": [
       "<Figure size 640x480 with 1 Axes>"
      ]
     },
     "metadata": {},
     "output_type": "display_data"
    },
    {
     "name": "stderr",
     "output_type": "stream",
     "text": [
      "C:\\Users\\91807\\anaconda3\\lib\\site-packages\\seaborn\\_decorators.py:36: FutureWarning: Pass the following variable as a keyword arg: x. From version 0.12, the only valid positional argument will be `data`, and passing other arguments without an explicit keyword will result in an error or misinterpretation.\n",
      "  warnings.warn(\n"
     ]
    },
    {
     "data": {
      "image/png": "[encoded data removed]",
      "text/plain": [
       "<Figure size 640x480 with 1 Axes>"
      ]
     },
     "metadata": {},
     "output_type": "display_data"
    }
   ],
   "source": [
    "for i in int_cols:\n",
    "    sns.boxplot(df[i])\n",
    "    plt.show()"
   ]
  },
  {
   "cell_type": "code",
   "execution_count": 25,
   "id": "6dea6472",
   "metadata": {},
   "outputs": [],
   "source": [
    "## We can see that there is no outliers in the data "
   ]
  },
  {
   "cell_type": "code",
   "execution_count": 26,
   "id": "ae9835ee",
   "metadata": {},
   "outputs": [
    {
     "data": {
      "text/html": [
       "<div>\n",
       "<style scoped>\n",
       "    .dataframe tbody tr th:only-of-type {\n",
       "        vertical-align: middle;\n",
       "    }\n",
       "\n",
       "    .dataframe tbody tr th {\n",
       "        vertical-align: top;\n",
       "    }\n",
       "\n",
       "    .dataframe thead th {\n",
       "        text-align: right;\n",
       "    }\n",
       "</style>\n",
       "<table border=\"1\" class=\"dataframe\">\n",
       "  <thead>\n",
       "    <tr style=\"text-align: right;\">\n",
       "      <th></th>\n",
       "      <th>count</th>\n",
       "      <th>mean</th>\n",
       "      <th>std</th>\n",
       "      <th>min</th>\n",
       "      <th>1%</th>\n",
       "      <th>2%</th>\n",
       "      <th>3%</th>\n",
       "      <th>4%</th>\n",
       "      <th>5%</th>\n",
       "      <th>50%</th>\n",
       "      <th>max</th>\n",
       "    </tr>\n",
       "  </thead>\n",
       "  <tbody>\n",
       "    <tr>\n",
       "      <th>Age</th>\n",
       "      <td>1000.0</td>\n",
       "      <td>52.293</td>\n",
       "      <td>15.727126</td>\n",
       "      <td>25.0</td>\n",
       "      <td>25.00</td>\n",
       "      <td>26.00</td>\n",
       "      <td>26.00</td>\n",
       "      <td>26.0</td>\n",
       "      <td>27.00</td>\n",
       "      <td>52.0</td>\n",
       "      <td>79.0</td>\n",
       "    </tr>\n",
       "    <tr>\n",
       "      <th>Gender</th>\n",
       "      <td>1000.0</td>\n",
       "      <td>0.497</td>\n",
       "      <td>0.500241</td>\n",
       "      <td>0.0</td>\n",
       "      <td>0.00</td>\n",
       "      <td>0.00</td>\n",
       "      <td>0.00</td>\n",
       "      <td>0.0</td>\n",
       "      <td>0.00</td>\n",
       "      <td>0.0</td>\n",
       "      <td>1.0</td>\n",
       "    </tr>\n",
       "    <tr>\n",
       "      <th>Cholesterol</th>\n",
       "      <td>1000.0</td>\n",
       "      <td>249.939</td>\n",
       "      <td>57.914673</td>\n",
       "      <td>150.0</td>\n",
       "      <td>152.00</td>\n",
       "      <td>154.00</td>\n",
       "      <td>156.00</td>\n",
       "      <td>159.0</td>\n",
       "      <td>161.00</td>\n",
       "      <td>248.0</td>\n",
       "      <td>349.0</td>\n",
       "    </tr>\n",
       "    <tr>\n",
       "      <th>Blood Pressure</th>\n",
       "      <td>1000.0</td>\n",
       "      <td>135.281</td>\n",
       "      <td>26.388300</td>\n",
       "      <td>90.0</td>\n",
       "      <td>90.00</td>\n",
       "      <td>91.00</td>\n",
       "      <td>91.97</td>\n",
       "      <td>93.0</td>\n",
       "      <td>94.95</td>\n",
       "      <td>136.0</td>\n",
       "      <td>179.0</td>\n",
       "    </tr>\n",
       "    <tr>\n",
       "      <th>Heart Rate</th>\n",
       "      <td>1000.0</td>\n",
       "      <td>79.204</td>\n",
       "      <td>11.486092</td>\n",
       "      <td>60.0</td>\n",
       "      <td>60.00</td>\n",
       "      <td>61.00</td>\n",
       "      <td>61.00</td>\n",
       "      <td>61.0</td>\n",
       "      <td>62.00</td>\n",
       "      <td>79.0</td>\n",
       "      <td>99.0</td>\n",
       "    </tr>\n",
       "    <tr>\n",
       "      <th>Smoking</th>\n",
       "      <td>1000.0</td>\n",
       "      <td>1.002</td>\n",
       "      <td>0.821383</td>\n",
       "      <td>0.0</td>\n",
       "      <td>0.00</td>\n",
       "      <td>0.00</td>\n",
       "      <td>0.00</td>\n",
       "      <td>0.0</td>\n",
       "      <td>0.00</td>\n",
       "      <td>1.0</td>\n",
       "      <td>2.0</td>\n",
       "    </tr>\n",
       "    <tr>\n",
       "      <th>Alcohol Intake</th>\n",
       "      <td>1000.0</td>\n",
       "      <td>0.994</td>\n",
       "      <td>0.828644</td>\n",
       "      <td>0.0</td>\n",
       "      <td>0.00</td>\n",
       "      <td>0.00</td>\n",
       "      <td>0.00</td>\n",
       "      <td>0.0</td>\n",
       "      <td>0.00</td>\n",
       "      <td>1.0</td>\n",
       "      <td>2.0</td>\n",
       "    </tr>\n",
       "    <tr>\n",
       "      <th>Exercise Hours</th>\n",
       "      <td>1000.0</td>\n",
       "      <td>4.529</td>\n",
       "      <td>2.934241</td>\n",
       "      <td>0.0</td>\n",
       "      <td>0.00</td>\n",
       "      <td>0.00</td>\n",
       "      <td>0.00</td>\n",
       "      <td>0.0</td>\n",
       "      <td>0.00</td>\n",
       "      <td>4.5</td>\n",
       "      <td>9.0</td>\n",
       "    </tr>\n",
       "    <tr>\n",
       "      <th>Family History</th>\n",
       "      <td>1000.0</td>\n",
       "      <td>0.499</td>\n",
       "      <td>0.500249</td>\n",
       "      <td>0.0</td>\n",
       "      <td>0.00</td>\n",
       "      <td>0.00</td>\n",
       "      <td>0.00</td>\n",
       "      <td>0.0</td>\n",
       "      <td>0.00</td>\n",
       "      <td>0.0</td>\n",
       "      <td>1.0</td>\n",
       "    </tr>\n",
       "    <tr>\n",
       "      <th>Diabetes</th>\n",
       "      <td>1000.0</td>\n",
       "      <td>0.505</td>\n",
       "      <td>0.500225</td>\n",
       "      <td>0.0</td>\n",
       "      <td>0.00</td>\n",
       "      <td>0.00</td>\n",
       "      <td>0.00</td>\n",
       "      <td>0.0</td>\n",
       "      <td>0.00</td>\n",
       "      <td>1.0</td>\n",
       "      <td>1.0</td>\n",
       "    </tr>\n",
       "    <tr>\n",
       "      <th>Obesity</th>\n",
       "      <td>1000.0</td>\n",
       "      <td>0.499</td>\n",
       "      <td>0.500249</td>\n",
       "      <td>0.0</td>\n",
       "      <td>0.00</td>\n",
       "      <td>0.00</td>\n",
       "      <td>0.00</td>\n",
       "      <td>0.0</td>\n",
       "      <td>0.00</td>\n",
       "      <td>0.0</td>\n",
       "      <td>1.0</td>\n",
       "    </tr>\n",
       "    <tr>\n",
       "      <th>Stress Level</th>\n",
       "      <td>1000.0</td>\n",
       "      <td>5.646</td>\n",
       "      <td>2.831024</td>\n",
       "      <td>1.0</td>\n",
       "      <td>1.00</td>\n",
       "      <td>1.00</td>\n",
       "      <td>1.00</td>\n",
       "      <td>1.0</td>\n",
       "      <td>1.00</td>\n",
       "      <td>6.0</td>\n",
       "      <td>10.0</td>\n",
       "    </tr>\n",
       "    <tr>\n",
       "      <th>Blood Sugar</th>\n",
       "      <td>1000.0</td>\n",
       "      <td>134.941</td>\n",
       "      <td>36.699624</td>\n",
       "      <td>70.0</td>\n",
       "      <td>70.99</td>\n",
       "      <td>71.98</td>\n",
       "      <td>73.00</td>\n",
       "      <td>74.0</td>\n",
       "      <td>76.95</td>\n",
       "      <td>135.0</td>\n",
       "      <td>199.0</td>\n",
       "    </tr>\n",
       "    <tr>\n",
       "      <th>Exercise Induced Angina</th>\n",
       "      <td>1000.0</td>\n",
       "      <td>0.472</td>\n",
       "      <td>0.499465</td>\n",
       "      <td>0.0</td>\n",
       "      <td>0.00</td>\n",
       "      <td>0.00</td>\n",
       "      <td>0.00</td>\n",
       "      <td>0.0</td>\n",
       "      <td>0.00</td>\n",
       "      <td>0.0</td>\n",
       "      <td>1.0</td>\n",
       "    </tr>\n",
       "    <tr>\n",
       "      <th>Chest Pain Type</th>\n",
       "      <td>1000.0</td>\n",
       "      <td>1.508</td>\n",
       "      <td>1.116774</td>\n",
       "      <td>0.0</td>\n",
       "      <td>0.00</td>\n",
       "      <td>0.00</td>\n",
       "      <td>0.00</td>\n",
       "      <td>0.0</td>\n",
       "      <td>0.00</td>\n",
       "      <td>2.0</td>\n",
       "      <td>3.0</td>\n",
       "    </tr>\n",
       "    <tr>\n",
       "      <th>Heart Disease</th>\n",
       "      <td>1000.0</td>\n",
       "      <td>0.392</td>\n",
       "      <td>0.488441</td>\n",
       "      <td>0.0</td>\n",
       "      <td>0.00</td>\n",
       "      <td>0.00</td>\n",
       "      <td>0.00</td>\n",
       "      <td>0.0</td>\n",
       "      <td>0.00</td>\n",
       "      <td>0.0</td>\n",
       "      <td>1.0</td>\n",
       "    </tr>\n",
       "  </tbody>\n",
       "</table>\n",
       "</div>"
      ],
      "text/plain": [
       "                          count     mean        std    min      1%      2%  \\\n",
       "Age                      1000.0   52.293  15.727126   25.0   25.00   26.00   \n",
       "Gender                   1000.0    0.497   0.500241    0.0    0.00    0.00   \n",
       "Cholesterol              1000.0  249.939  57.914673  150.0  152.00  154.00   \n",
       "Blood Pressure           1000.0  135.281  26.388300   90.0   90.00   91.00   \n",
       "Heart Rate               1000.0   79.204  11.486092   60.0   60.00   61.00   \n",
       "Smoking                  1000.0    1.002   0.821383    0.0    0.00    0.00   \n",
       "Alcohol Intake           1000.0    0.994   0.828644    0.0    0.00    0.00   \n",
       "Exercise Hours           1000.0    4.529   2.934241    0.0    0.00    0.00   \n",
       "Family History           1000.0    0.499   0.500249    0.0    0.00    0.00   \n",
       "Diabetes                 1000.0    0.505   0.500225    0.0    0.00    0.00   \n",
       "Obesity                  1000.0    0.499   0.500249    0.0    0.00    0.00   \n",
       "Stress Level             1000.0    5.646   2.831024    1.0    1.00    1.00   \n",
       "Blood Sugar              1000.0  134.941  36.699624   70.0   70.99   71.98   \n",
       "Exercise Induced Angina  1000.0    0.472   0.499465    0.0    0.00    0.00   \n",
       "Chest Pain Type          1000.0    1.508   1.116774    0.0    0.00    0.00   \n",
       "Heart Disease            1000.0    0.392   0.488441    0.0    0.00    0.00   \n",
       "\n",
       "                             3%     4%      5%    50%    max  \n",
       "Age                       26.00   26.0   27.00   52.0   79.0  \n",
       "Gender                     0.00    0.0    0.00    0.0    1.0  \n",
       "Cholesterol              156.00  159.0  161.00  248.0  349.0  \n",
       "Blood Pressure            91.97   93.0   94.95  136.0  179.0  \n",
       "Heart Rate                61.00   61.0   62.00   79.0   99.0  \n",
       "Smoking                    0.00    0.0    0.00    1.0    2.0  \n",
       "Alcohol Intake             0.00    0.0    0.00    1.0    2.0  \n",
       "Exercise Hours             0.00    0.0    0.00    4.5    9.0  \n",
       "Family History             0.00    0.0    0.00    0.0    1.0  \n",
       "Diabetes                   0.00    0.0    0.00    1.0    1.0  \n",
       "Obesity                    0.00    0.0    0.00    0.0    1.0  \n",
       "Stress Level               1.00    1.0    1.00    6.0   10.0  \n",
       "Blood Sugar               73.00   74.0   76.95  135.0  199.0  \n",
       "Exercise Induced Angina    0.00    0.0    0.00    0.0    1.0  \n",
       "Chest Pain Type            0.00    0.0    0.00    2.0    3.0  \n",
       "Heart Disease              0.00    0.0    0.00    0.0    1.0  "
      ]
     },
     "execution_count": 26,
     "metadata": {},
     "output_type": "execute_result"
    }
   ],
   "source": [
    "df.describe(percentiles=[0.01,0.02,0.03,0.04,0.05]).T"
   ]
  },
  {
   "cell_type": "code",
   "execution_count": 27,
   "id": "0b5270de",
   "metadata": {},
   "outputs": [
    {
     "data": {
      "image/png": "[encoded data removed]",
      "text/plain": [
       "<Figure size 640x480 with 1 Axes>"
      ]
     },
     "metadata": {},
     "output_type": "display_data"
    },
    {
     "data": {
      "image/png": "[encoded data removed]",
      "text/plain": [
       "<Figure size 640x480 with 1 Axes>"
      ]
     },
     "metadata": {},
     "output_type": "display_data"
    },
    {
     "data": {
      "image/png": "[encoded data removed]",
      "text/plain": [
       "<Figure size 640x480 with 1 Axes>"
      ]
     },
     "metadata": {},
     "output_type": "display_data"
    },
    {
     "data": {
      "image/png": "[encoded data removed]",
      "text/plain": [
       "<Figure size 640x480 with 1 Axes>"
      ]
     },
     "metadata": {},
     "output_type": "display_data"
    },
    {
     "data": {
      "image/png": "[encoded data removed]",
      "text/plain": [
       "<Figure size 640x480 with 1 Axes>"
      ]
     },
     "metadata": {},
     "output_type": "display_data"
    },
    {
     "data": {
      "image/png": "[encoded data removed]",
      "text/plain": [
       "<Figure size 640x480 with 1 Axes>"
      ]
     },
     "metadata": {},
     "output_type": "display_data"
    },
    {
     "data": {
      "image/png": "[encoded data removed]",
      "text/plain": [
       "<Figure size 640x480 with 1 Axes>"
      ]
     },
     "metadata": {},
     "output_type": "display_data"
    }
   ],
   "source": [
    "for i in cat_cols[:-1]:\n",
    "    sns.countplot(x=df[i],hue=df['Heart Disease'])\n",
    "    plt.show()"
   ]
  },
  {
   "cell_type": "code",
   "execution_count": 28,
   "id": "71c54293",
   "metadata": {},
   "outputs": [],
   "source": [
    "corr=df.corr()"
   ]
  },
  {
   "cell_type": "code",
   "execution_count": 29,
   "id": "207cc1c7",
   "metadata": {
    "scrolled": false
   },
   "outputs": [
    {
     "data": {
      "text/plain": [
       "<AxesSubplot:>"
      ]
     },
     "execution_count": 29,
     "metadata": {},
     "output_type": "execute_result"
    },
    {
     "data": {
      "image/png": "[encoded data removed]",
      "text/plain": [
       "<Figure size 1500x1500 with 2 Axes>"
      ]
     },
     "metadata": {},
     "output_type": "display_data"
    }
   ],
   "source": [
    "plt.figure(figsize=(15,15))\n",
    "sns.heatmap((abs(corr)>0.7),annot=True,cmap='RdBu')"
   ]
  },
  {
   "cell_type": "code",
   "execution_count": 30,
   "id": "8d12dcc1",
   "metadata": {},
   "outputs": [],
   "source": [
    "## None  of the columns are not highily correlated so it is better for predicition "
   ]
  },
  {
   "cell_type": "code",
   "execution_count": 34,
   "id": "6321acb0",
   "metadata": {},
   "outputs": [
    {
     "name": "stdout",
     "output_type": "stream",
     "text": [
      "(1000, 15)\n",
      "(1000,)\n"
     ]
    }
   ],
   "source": [
    "x= df.drop('Heart Disease',axis=1)\n",
    "y=df['Heart Disease']\n",
    "print(x.shape)\n",
    "print(y.shape)"
   ]
  },
  {
   "cell_type": "code",
   "execution_count": 35,
   "id": "4b008093",
   "metadata": {},
   "outputs": [],
   "source": [
    "from sklearn.preprocessing import StandardScaler"
   ]
  },
  {
   "cell_type": "code",
   "execution_count": 47,
   "id": "202aa843",
   "metadata": {},
   "outputs": [],
   "source": [
    "numerical_cols=['Age', 'Cholesterol', 'Blood Pressure', 'Heart Rate', 'Exercise Hours',\n",
    "       'Stress Level', 'Blood Sugar', 'Heart Disease']"
   ]
  },
  {
   "cell_type": "code",
   "execution_count": 48,
   "id": "2d073ce7",
   "metadata": {},
   "outputs": [],
   "source": [
    "scaler = StandardScaler()\n",
    "standardized_data = scaler.fit_transform(df[numerical_cols])"
   ]
  },
  {
   "cell_type": "code",
   "execution_count": 49,
   "id": "6fe3ce81",
   "metadata": {},
   "outputs": [
    {
     "data": {
      "text/html": [
       "<div>\n",
       "<style scoped>\n",
       "    .dataframe tbody tr th:only-of-type {\n",
       "        vertical-align: middle;\n",
       "    }\n",
       "\n",
       "    .dataframe tbody tr th {\n",
       "        vertical-align: top;\n",
       "    }\n",
       "\n",
       "    .dataframe thead th {\n",
       "        text-align: right;\n",
       "    }\n",
       "</style>\n",
       "<table border=\"1\" class=\"dataframe\">\n",
       "  <thead>\n",
       "    <tr style=\"text-align: right;\">\n",
       "      <th></th>\n",
       "      <th>count</th>\n",
       "      <th>mean</th>\n",
       "      <th>std</th>\n",
       "      <th>min</th>\n",
       "      <th>25%</th>\n",
       "      <th>50%</th>\n",
       "      <th>75%</th>\n",
       "      <th>max</th>\n",
       "    </tr>\n",
       "  </thead>\n",
       "  <tbody>\n",
       "    <tr>\n",
       "      <th>Age</th>\n",
       "      <td>1000.0</td>\n",
       "      <td>52.293</td>\n",
       "      <td>15.727126</td>\n",
       "      <td>25.0</td>\n",
       "      <td>39.00</td>\n",
       "      <td>52.0</td>\n",
       "      <td>66.00</td>\n",
       "      <td>79.0</td>\n",
       "    </tr>\n",
       "    <tr>\n",
       "      <th>Gender</th>\n",
       "      <td>1000.0</td>\n",
       "      <td>0.497</td>\n",
       "      <td>0.500241</td>\n",
       "      <td>0.0</td>\n",
       "      <td>0.00</td>\n",
       "      <td>0.0</td>\n",
       "      <td>1.00</td>\n",
       "      <td>1.0</td>\n",
       "    </tr>\n",
       "    <tr>\n",
       "      <th>Cholesterol</th>\n",
       "      <td>1000.0</td>\n",
       "      <td>249.939</td>\n",
       "      <td>57.914673</td>\n",
       "      <td>150.0</td>\n",
       "      <td>200.00</td>\n",
       "      <td>248.0</td>\n",
       "      <td>299.00</td>\n",
       "      <td>349.0</td>\n",
       "    </tr>\n",
       "    <tr>\n",
       "      <th>Blood Pressure</th>\n",
       "      <td>1000.0</td>\n",
       "      <td>135.281</td>\n",
       "      <td>26.388300</td>\n",
       "      <td>90.0</td>\n",
       "      <td>112.75</td>\n",
       "      <td>136.0</td>\n",
       "      <td>159.00</td>\n",
       "      <td>179.0</td>\n",
       "    </tr>\n",
       "    <tr>\n",
       "      <th>Heart Rate</th>\n",
       "      <td>1000.0</td>\n",
       "      <td>79.204</td>\n",
       "      <td>11.486092</td>\n",
       "      <td>60.0</td>\n",
       "      <td>70.00</td>\n",
       "      <td>79.0</td>\n",
       "      <td>89.00</td>\n",
       "      <td>99.0</td>\n",
       "    </tr>\n",
       "    <tr>\n",
       "      <th>Smoking</th>\n",
       "      <td>1000.0</td>\n",
       "      <td>1.002</td>\n",
       "      <td>0.821383</td>\n",
       "      <td>0.0</td>\n",
       "      <td>0.00</td>\n",
       "      <td>1.0</td>\n",
       "      <td>2.00</td>\n",
       "      <td>2.0</td>\n",
       "    </tr>\n",
       "    <tr>\n",
       "      <th>Alcohol Intake</th>\n",
       "      <td>1000.0</td>\n",
       "      <td>0.994</td>\n",
       "      <td>0.828644</td>\n",
       "      <td>0.0</td>\n",
       "      <td>0.00</td>\n",
       "      <td>1.0</td>\n",
       "      <td>2.00</td>\n",
       "      <td>2.0</td>\n",
       "    </tr>\n",
       "    <tr>\n",
       "      <th>Exercise Hours</th>\n",
       "      <td>1000.0</td>\n",
       "      <td>4.529</td>\n",
       "      <td>2.934241</td>\n",
       "      <td>0.0</td>\n",
       "      <td>2.00</td>\n",
       "      <td>4.5</td>\n",
       "      <td>7.00</td>\n",
       "      <td>9.0</td>\n",
       "    </tr>\n",
       "    <tr>\n",
       "      <th>Family History</th>\n",
       "      <td>1000.0</td>\n",
       "      <td>0.499</td>\n",
       "      <td>0.500249</td>\n",
       "      <td>0.0</td>\n",
       "      <td>0.00</td>\n",
       "      <td>0.0</td>\n",
       "      <td>1.00</td>\n",
       "      <td>1.0</td>\n",
       "    </tr>\n",
       "    <tr>\n",
       "      <th>Diabetes</th>\n",
       "      <td>1000.0</td>\n",
       "      <td>0.505</td>\n",
       "      <td>0.500225</td>\n",
       "      <td>0.0</td>\n",
       "      <td>0.00</td>\n",
       "      <td>1.0</td>\n",
       "      <td>1.00</td>\n",
       "      <td>1.0</td>\n",
       "    </tr>\n",
       "    <tr>\n",
       "      <th>Obesity</th>\n",
       "      <td>1000.0</td>\n",
       "      <td>0.499</td>\n",
       "      <td>0.500249</td>\n",
       "      <td>0.0</td>\n",
       "      <td>0.00</td>\n",
       "      <td>0.0</td>\n",
       "      <td>1.00</td>\n",
       "      <td>1.0</td>\n",
       "    </tr>\n",
       "    <tr>\n",
       "      <th>Stress Level</th>\n",
       "      <td>1000.0</td>\n",
       "      <td>5.646</td>\n",
       "      <td>2.831024</td>\n",
       "      <td>1.0</td>\n",
       "      <td>3.00</td>\n",
       "      <td>6.0</td>\n",
       "      <td>8.00</td>\n",
       "      <td>10.0</td>\n",
       "    </tr>\n",
       "    <tr>\n",
       "      <th>Blood Sugar</th>\n",
       "      <td>1000.0</td>\n",
       "      <td>134.941</td>\n",
       "      <td>36.699624</td>\n",
       "      <td>70.0</td>\n",
       "      <td>104.00</td>\n",
       "      <td>135.0</td>\n",
       "      <td>167.00</td>\n",
       "      <td>199.0</td>\n",
       "    </tr>\n",
       "    <tr>\n",
       "      <th>Exercise Induced Angina</th>\n",
       "      <td>1000.0</td>\n",
       "      <td>0.472</td>\n",
       "      <td>0.499465</td>\n",
       "      <td>0.0</td>\n",
       "      <td>0.00</td>\n",
       "      <td>0.0</td>\n",
       "      <td>1.00</td>\n",
       "      <td>1.0</td>\n",
       "    </tr>\n",
       "    <tr>\n",
       "      <th>Chest Pain Type</th>\n",
       "      <td>1000.0</td>\n",
       "      <td>1.508</td>\n",
       "      <td>1.116774</td>\n",
       "      <td>0.0</td>\n",
       "      <td>1.00</td>\n",
       "      <td>2.0</td>\n",
       "      <td>2.25</td>\n",
       "      <td>3.0</td>\n",
       "    </tr>\n",
       "    <tr>\n",
       "      <th>Heart Disease</th>\n",
       "      <td>1000.0</td>\n",
       "      <td>0.392</td>\n",
       "      <td>0.488441</td>\n",
       "      <td>0.0</td>\n",
       "      <td>0.00</td>\n",
       "      <td>0.0</td>\n",
       "      <td>1.00</td>\n",
       "      <td>1.0</td>\n",
       "    </tr>\n",
       "  </tbody>\n",
       "</table>\n",
       "</div>"
      ],
      "text/plain": [
       "                          count     mean        std    min     25%    50%  \\\n",
       "Age                      1000.0   52.293  15.727126   25.0   39.00   52.0   \n",
       "Gender                   1000.0    0.497   0.500241    0.0    0.00    0.0   \n",
       "Cholesterol              1000.0  249.939  57.914673  150.0  200.00  248.0   \n",
       "Blood Pressure           1000.0  135.281  26.388300   90.0  112.75  136.0   \n",
       "Heart Rate               1000.0   79.204  11.486092   60.0   70.00   79.0   \n",
       "Smoking                  1000.0    1.002   0.821383    0.0    0.00    1.0   \n",
       "Alcohol Intake           1000.0    0.994   0.828644    0.0    0.00    1.0   \n",
       "Exercise Hours           1000.0    4.529   2.934241    0.0    2.00    4.5   \n",
       "Family History           1000.0    0.499   0.500249    0.0    0.00    0.0   \n",
       "Diabetes                 1000.0    0.505   0.500225    0.0    0.00    1.0   \n",
       "Obesity                  1000.0    0.499   0.500249    0.0    0.00    0.0   \n",
       "Stress Level             1000.0    5.646   2.831024    1.0    3.00    6.0   \n",
       "Blood Sugar              1000.0  134.941  36.699624   70.0  104.00  135.0   \n",
       "Exercise Induced Angina  1000.0    0.472   0.499465    0.0    0.00    0.0   \n",
       "Chest Pain Type          1000.0    1.508   1.116774    0.0    1.00    2.0   \n",
       "Heart Disease            1000.0    0.392   0.488441    0.0    0.00    0.0   \n",
       "\n",
       "                            75%    max  \n",
       "Age                       66.00   79.0  \n",
       "Gender                     1.00    1.0  \n",
       "Cholesterol              299.00  349.0  \n",
       "Blood Pressure           159.00  179.0  \n",
       "Heart Rate                89.00   99.0  \n",
       "Smoking                    2.00    2.0  \n",
       "Alcohol Intake             2.00    2.0  \n",
       "Exercise Hours             7.00    9.0  \n",
       "Family History             1.00    1.0  \n",
       "Diabetes                   1.00    1.0  \n",
       "Obesity                    1.00    1.0  \n",
       "Stress Level               8.00   10.0  \n",
       "Blood Sugar              167.00  199.0  \n",
       "Exercise Induced Angina    1.00    1.0  \n",
       "Chest Pain Type            2.25    3.0  \n",
       "Heart Disease              1.00    1.0  "
      ]
     },
     "execution_count": 49,
     "metadata": {},
     "output_type": "execute_result"
    }
   ],
   "source": [
    "df.describe().T"
   ]
  },
  {
   "cell_type": "code",
   "execution_count": 44,
   "id": "a3bc0205",
   "metadata": {},
   "outputs": [
    {
     "data": {
      "text/html": [
       "<div>\n",
       "<style scoped>\n",
       "    .dataframe tbody tr th:only-of-type {\n",
       "        vertical-align: middle;\n",
       "    }\n",
       "\n",
       "    .dataframe tbody tr th {\n",
       "        vertical-align: top;\n",
       "    }\n",
       "\n",
       "    .dataframe thead th {\n",
       "        text-align: right;\n",
       "    }\n",
       "</style>\n",
       "<table border=\"1\" class=\"dataframe\">\n",
       "  <thead>\n",
       "    <tr style=\"text-align: right;\">\n",
       "      <th></th>\n",
       "      <th>Age</th>\n",
       "      <th>Gender</th>\n",
       "      <th>Cholesterol</th>\n",
       "      <th>Blood Pressure</th>\n",
       "      <th>Heart Rate</th>\n",
       "      <th>Smoking</th>\n",
       "      <th>Alcohol Intake</th>\n",
       "      <th>Exercise Hours</th>\n",
       "      <th>Family History</th>\n",
       "      <th>Diabetes</th>\n",
       "      <th>Obesity</th>\n",
       "      <th>Stress Level</th>\n",
       "      <th>Blood Sugar</th>\n",
       "      <th>Exercise Induced Angina</th>\n",
       "      <th>Chest Pain Type</th>\n",
       "      <th>Heart Disease</th>\n",
       "    </tr>\n",
       "  </thead>\n",
       "  <tbody>\n",
       "    <tr>\n",
       "      <th>0</th>\n",
       "      <td>75</td>\n",
       "      <td>0</td>\n",
       "      <td>228</td>\n",
       "      <td>119</td>\n",
       "      <td>66</td>\n",
       "      <td>0</td>\n",
       "      <td>0</td>\n",
       "      <td>1</td>\n",
       "      <td>0</td>\n",
       "      <td>0</td>\n",
       "      <td>1</td>\n",
       "      <td>8</td>\n",
       "      <td>119</td>\n",
       "      <td>1</td>\n",
       "      <td>1</td>\n",
       "      <td>1</td>\n",
       "    </tr>\n",
       "    <tr>\n",
       "      <th>1</th>\n",
       "      <td>48</td>\n",
       "      <td>1</td>\n",
       "      <td>204</td>\n",
       "      <td>165</td>\n",
       "      <td>62</td>\n",
       "      <td>0</td>\n",
       "      <td>2</td>\n",
       "      <td>5</td>\n",
       "      <td>0</td>\n",
       "      <td>0</td>\n",
       "      <td>0</td>\n",
       "      <td>9</td>\n",
       "      <td>70</td>\n",
       "      <td>1</td>\n",
       "      <td>3</td>\n",
       "      <td>0</td>\n",
       "    </tr>\n",
       "    <tr>\n",
       "      <th>2</th>\n",
       "      <td>53</td>\n",
       "      <td>1</td>\n",
       "      <td>234</td>\n",
       "      <td>91</td>\n",
       "      <td>67</td>\n",
       "      <td>2</td>\n",
       "      <td>0</td>\n",
       "      <td>3</td>\n",
       "      <td>1</td>\n",
       "      <td>0</td>\n",
       "      <td>1</td>\n",
       "      <td>5</td>\n",
       "      <td>196</td>\n",
       "      <td>1</td>\n",
       "      <td>1</td>\n",
       "      <td>1</td>\n",
       "    </tr>\n",
       "    <tr>\n",
       "      <th>3</th>\n",
       "      <td>69</td>\n",
       "      <td>0</td>\n",
       "      <td>192</td>\n",
       "      <td>90</td>\n",
       "      <td>72</td>\n",
       "      <td>0</td>\n",
       "      <td>2</td>\n",
       "      <td>4</td>\n",
       "      <td>0</td>\n",
       "      <td>1</td>\n",
       "      <td>0</td>\n",
       "      <td>7</td>\n",
       "      <td>107</td>\n",
       "      <td>1</td>\n",
       "      <td>2</td>\n",
       "      <td>0</td>\n",
       "    </tr>\n",
       "    <tr>\n",
       "      <th>4</th>\n",
       "      <td>62</td>\n",
       "      <td>0</td>\n",
       "      <td>172</td>\n",
       "      <td>163</td>\n",
       "      <td>93</td>\n",
       "      <td>2</td>\n",
       "      <td>2</td>\n",
       "      <td>6</td>\n",
       "      <td>0</td>\n",
       "      <td>1</td>\n",
       "      <td>0</td>\n",
       "      <td>2</td>\n",
       "      <td>183</td>\n",
       "      <td>1</td>\n",
       "      <td>0</td>\n",
       "      <td>0</td>\n",
       "    </tr>\n",
       "  </tbody>\n",
       "</table>\n",
       "</div>"
      ],
      "text/plain": [
       "   Age  Gender  Cholesterol  Blood Pressure  Heart Rate  Smoking  \\\n",
       "0   75       0          228             119          66        0   \n",
       "1   48       1          204             165          62        0   \n",
       "2   53       1          234              91          67        2   \n",
       "3   69       0          192              90          72        0   \n",
       "4   62       0          172             163          93        2   \n",
       "\n",
       "   Alcohol Intake  Exercise Hours  Family History  Diabetes  Obesity  \\\n",
       "0               0               1               0         0        1   \n",
       "1               2               5               0         0        0   \n",
       "2               0               3               1         0        1   \n",
       "3               2               4               0         1        0   \n",
       "4               2               6               0         1        0   \n",
       "\n",
       "   Stress Level  Blood Sugar  Exercise Induced Angina  Chest Pain Type  \\\n",
       "0             8          119                        1                1   \n",
       "1             9           70                        1                3   \n",
       "2             5          196                        1                1   \n",
       "3             7          107                        1                2   \n",
       "4             2          183                        1                0   \n",
       "\n",
       "   Heart Disease  \n",
       "0              1  \n",
       "1              0  \n",
       "2              1  \n",
       "3              0  \n",
       "4              0  "
      ]
     },
     "execution_count": 44,
     "metadata": {},
     "output_type": "execute_result"
    }
   ],
   "source": [
    "df.head()"
   ]
  },
  {
   "cell_type": "code",
   "execution_count": 50,
   "id": "1403e089",
   "metadata": {},
   "outputs": [],
   "source": [
    "from sklearn.model_selection import train_test_split "
   ]
  },
  {
   "cell_type": "code",
   "execution_count": 51,
   "id": "60e60414",
   "metadata": {},
   "outputs": [
    {
     "name": "stdout",
     "output_type": "stream",
     "text": [
      "(700, 15)\n",
      "(300, 15)\n",
      "(300,)\n",
      "(700,)\n"
     ]
    }
   ],
   "source": [
    "x_train, x_test,y_train, y_test=train_test_split(x,y,test_size=0.30,random_state =20)\n",
    "print(x_train.shape)\n",
    "print(x_test.shape)\n",
    "print(y_test.shape)\n",
    "print(y_train.shape)"
   ]
  },
  {
   "cell_type": "code",
   "execution_count": 52,
   "id": "c5bf87de",
   "metadata": {},
   "outputs": [],
   "source": [
    "from sklearn.metrics import confusion_matrix ,classification_report,accuracy_score"
   ]
  },
  {
   "cell_type": "code",
   "execution_count": 62,
   "id": "ff1d0a3e",
   "metadata": {},
   "outputs": [],
   "source": [
    "def eval_model(y_test,y_pred):\n",
    "    cm = confusion_matrix(y_test,y_pred)\n",
    "    print(cm)\n",
    "    print('Accuracy Score',accuracy_score(y_test,y_pred))\n",
    "    print(classification_report(y_test,y_pred))\n",
    "\n",
    "def mscore(model):\n",
    "    print('Train Score',model.score(x_train,y_train))\n",
    "    print('Train Score',model.score(x_test,y_test))    "
   ]
  },
  {
   "cell_type": "code",
   "execution_count": 54,
   "id": "cfcf4ad5",
   "metadata": {},
   "outputs": [],
   "source": [
    "from sklearn.linear_model import LogisticRegression,LinearRegression"
   ]
  },
  {
   "cell_type": "code",
   "execution_count": 55,
   "id": "eb6c1810",
   "metadata": {},
   "outputs": [],
   "source": [
    "lr=LogisticRegression(max_iter=50000)"
   ]
  },
  {
   "cell_type": "code",
   "execution_count": 57,
   "id": "38f47d72",
   "metadata": {},
   "outputs": [
    {
     "data": {
      "text/plain": [
       "LogisticRegression(max_iter=50000)"
      ]
     },
     "execution_count": 57,
     "metadata": {},
     "output_type": "execute_result"
    }
   ],
   "source": [
    "lr.fit(x_train,y_train)"
   ]
  },
  {
   "cell_type": "code",
   "execution_count": 59,
   "id": "ebd644af",
   "metadata": {},
   "outputs": [
    {
     "name": "stdout",
     "output_type": "stream",
     "text": [
      "Train_score 0.8728571428571429\n",
      "Test_score 0.87\n"
     ]
    }
   ],
   "source": [
    "print('Train_score',lr.score(x_train,y_train))\n",
    "print('Test_score',lr.score(x_test,y_test))"
   ]
  },
  {
   "cell_type": "code",
   "execution_count": 65,
   "id": "99d29046",
   "metadata": {},
   "outputs": [
    {
     "name": "stdout",
     "output_type": "stream",
     "text": [
      "[[165  16]\n",
      " [ 23  96]]\n",
      "Accuracy Score 0.87\n",
      "              precision    recall  f1-score   support\n",
      "\n",
      "           0       0.88      0.91      0.89       181\n",
      "           1       0.86      0.81      0.83       119\n",
      "\n",
      "    accuracy                           0.87       300\n",
      "   macro avg       0.87      0.86      0.86       300\n",
      "weighted avg       0.87      0.87      0.87       300\n",
      "\n"
     ]
    }
   ],
   "source": [
    "y_pred=lr.predict(x_test)\n",
    "eval_model(y_test,y_pred)"
   ]
  },
  {
   "cell_type": "code",
   "execution_count": null,
   "id": "5a965230",
   "metadata": {},
   "outputs": [],
   "source": []
  },
  {
   "cell_type": "code",
   "execution_count": null,
   "id": "671dd139",
   "metadata": {},
   "outputs": [],
   "source": []
  },
  {
   "cell_type": "code",
   "execution_count": null,
   "id": "6a0cdbcc",
   "metadata": {},
   "outputs": [],
   "source": []
  },
  {
   "cell_type": "code",
   "execution_count": null,
   "id": "34f19129",
   "metadata": {},
   "outputs": [],
   "source": []
  },
  {
   "cell_type": "code",
   "execution_count": null,
   "id": "b958e28b",
   "metadata": {},
   "outputs": [],
   "source": []
  },
  {
   "cell_type": "code",
   "execution_count": null,
   "id": "b7f24e2c",
   "metadata": {},
   "outputs": [],
   "source": []
  },
  {
   "cell_type": "code",
   "execution_count": null,
   "id": "2baf8953",
   "metadata": {},
   "outputs": [],
   "source": []
  }
 ],
 "metadata": {
  "kernelspec": {
   "display_name": "Python 3 (ipykernel)",
   "language": "python",
   "name": "python3"
  },
  "language_info": {
   "codemirror_mode": {
    "name": "ipython",
    "version": 3
   },
   "file_extension": ".py",
   "mimetype": "text/x-python",
   "name": "python",
   "nbconvert_exporter": "python",
   "pygments_lexer": "ipython3",
   "version": "3.9.13"
  }
 },
 "nbformat": 4,
 "nbformat_minor": 5
}
